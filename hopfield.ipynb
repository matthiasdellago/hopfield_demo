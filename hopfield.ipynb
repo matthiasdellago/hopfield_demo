{
 "cells": [
  {
   "cell_type": "code",
   "execution_count": 3,
   "metadata": {},
   "outputs": [],
   "source": [
    "import numpy as np\n",
    "\n",
    "class HopfieldNetwork:\n",
    "    def __init__(self, dimension, bias=0):\n",
    "        self.dimension = dimension\n",
    "        # Initialize the weight matrix with zeros\n",
    "        self.weights = np.zeros((dimension, dimension))\n",
    "        # Initialize the bias\n",
    "        self.bias = bias\n",
    "\n",
    "    def store_pattern(self, pattern):\n",
    "        \"\"\"\n",
    "        Store the provided pattern in the weight matrix using Hebb's rule.\n",
    "        \"\"\"\n",
    "        # Calculate the outer product of the pattern with itself\n",
    "        outer_product = np.outer(pattern, pattern)\n",
    "        # Subtract the identity matrix to ensure zero diagonal\n",
    "        outer_product -= np.eye(self.dimension)\n",
    "        # Add the outer product to the weight matrix\n",
    "        self.weights += outer_product\n",
    "\n",
    "    def retrieve_pattern(self, pattern, max_iterations=100):\n",
    "        \"\"\"\n",
    "        Retrieve the stored pattern starting from the initial state.\n",
    "        \"\"\"\n",
    "        state = pattern.copy()\n",
    "        for _ in range(max_iterations):\n",
    "            # Get a random order for updating the dimensionsho\n",
    "            update_order = np.random.permutation(self.dimension)\n",
    "            for i in update_order:\n",
    "                updated_state = state.copy()\n",
    "                # Subtract the bias from the weighted sum before taking the sign\n",
    "                updated_state[i] = np.sign(np.dot(self.weights[i, :], state) - self.bias)\n",
    "                \n",
    "                # Check for convergence\n",
    "                if np.array_equal(updated_state, state):\n",
    "                    return state\n",
    "                \n",
    "                state = updated_state\n",
    "\n",
    "        raise ConvergenceError(\"Hopfield network did not converge within the maximum number of iterations\")\n",
    "\n",
    "class ConvergenceError(Exception):\n",
    "    \"\"\"\n",
    "    Exception raised when the Hopfield network does not converge to a \n",
    "    stored pattern within the specified maximum number of iterations.\n",
    "    \n",
    "    This is typically due to the network being in a state that does \n",
    "    not correspond to a stored pattern, the presence of too many \n",
    "    patterns causing interference, or the initial state being too far \n",
    "    from any stored pattern.\n",
    "    \"\"\"\n",
    "    pass\n"
   ]
  }
 ],
 "metadata": {
  "kernelspec": {
   "display_name": "Python 3",
   "language": "python",
   "name": "python3"
  },
  "language_info": {
   "codemirror_mode": {
    "name": "ipython",
    "version": 3
   },
   "file_extension": ".py",
   "mimetype": "text/x-python",
   "name": "python",
   "nbconvert_exporter": "python",
   "pygments_lexer": "ipython3",
   "version": "3.9.9"
  },
  "orig_nbformat": 4
 },
 "nbformat": 4,
 "nbformat_minor": 2
}
